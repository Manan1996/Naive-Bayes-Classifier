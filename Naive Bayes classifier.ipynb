{
 "cells": [
  {
   "cell_type": "code",
   "execution_count": null,
   "metadata": {},
   "outputs": [],
   "source": [
    "import pandas as pd\n",
    "import numpy as np\n",
    "import nltk\n",
    "from nltk.corpus import stopwords\n",
    "from sklearn.feature_extraction.text import TfidfVectorizer\n",
    "from sklearn.cross_validation import train_test_split\n",
    "from sklearn import naive_bayes\n",
    "from sklearn.metrics import accuracy_score\n",
    "from tkinter import *"
   ]
  },
  {
   "cell_type": "code",
   "execution_count": 101,
   "metadata": {},
   "outputs": [
    {
     "data": {
      "text/html": [
       "<div>\n",
       "<style>\n",
       "    .dataframe thead tr:only-child th {\n",
       "        text-align: right;\n",
       "    }\n",
       "\n",
       "    .dataframe thead th {\n",
       "        text-align: left;\n",
       "    }\n",
       "\n",
       "    .dataframe tbody tr th {\n",
       "        vertical-align: top;\n",
       "    }\n",
       "</style>\n",
       "<table border=\"1\" class=\"dataframe\">\n",
       "  <thead>\n",
       "    <tr style=\"text-align: right;\">\n",
       "      <th></th>\n",
       "      <th>Comment</th>\n",
       "    </tr>\n",
       "  </thead>\n",
       "  <tbody>\n",
       "    <tr>\n",
       "      <th>0</th>\n",
       "      <td>Thank you so much to everyone who has supporte...</td>\n",
       "    </tr>\n",
       "    <tr>\n",
       "      <th>1</th>\n",
       "      <td>Hilary remind me of\\nHi larry\\nAnd I saw lepit...</td>\n",
       "    </tr>\n",
       "    <tr>\n",
       "      <th>2</th>\n",
       "      <td>Representative stability ban goal fear huge to...</td>\n",
       "    </tr>\n",
       "    <tr>\n",
       "      <th>3</th>\n",
       "      <td>Make a video about what happened to the lost c...</td>\n",
       "    </tr>\n",
       "    <tr>\n",
       "      <th>4</th>\n",
       "      <td>Jesus christ that sandwich</td>\n",
       "    </tr>\n",
       "  </tbody>\n",
       "</table>\n",
       "</div>"
      ],
      "text/plain": [
       "                                             Comment\n",
       "0  Thank you so much to everyone who has supporte...\n",
       "1  Hilary remind me of\\nHi larry\\nAnd I saw lepit...\n",
       "2  Representative stability ban goal fear huge to...\n",
       "3  Make a video about what happened to the lost c...\n",
       "4                         Jesus christ that sandwich"
      ]
     },
     "execution_count": 101,
     "metadata": {},
     "output_type": "execute_result"
    }
   ],
   "source": [
    "Dataset=pd.read_csv(\"C:/Users/tilak/Desktop/Major/Data.csv\",encoding=\"ISO-8859-1\")\n",
    "#print (Dataset.head())\n",
    "df_test=pd.read_csv(\"C:/Users/tilak/Desktop/Major/comments_.csv\",encoding=\"ISO-8859-1\")\n",
    "\n",
    "stopset = (stopwords.words('english'))\n",
    "\n",
    "vectorizer = TfidfVectorizer(use_idf=True, lowercase=True,strip_accents='ascii', stop_words=stopset,encoding=\"ISO-8859-1\")\n",
    "\n",
    "len(Dataset.index)\n",
    "df_test.head()\n",
    "df_test=df_test[[\"Comment\"]]\n",
    "df_test.head()"
   ]
  },
  {
   "cell_type": "code",
   "execution_count": 95,
   "metadata": {},
   "outputs": [
    {
     "name": "stderr",
     "output_type": "stream",
     "text": [
      "C:\\Users\\tilak\\Anaconda3\\lib\\site-packages\\sklearn\\feature_extraction\\text.py:1059: FutureWarning: Conversion of the second argument of issubdtype from `float` to `np.floating` is deprecated. In future, it will be treated as `np.float64 == np.dtype(float).type`.\n",
      "  if hasattr(X, 'dtype') and np.issubdtype(X.dtype, np.float):\n"
     ]
    },
    {
     "data": {
      "text/plain": [
       "MultinomialNB(alpha=1, class_prior=None, fit_prior=True)"
      ]
     },
     "execution_count": 95,
     "metadata": {},
     "output_type": "execute_result"
    }
   ],
   "source": [
    "Y = Dataset.Sentiment\n",
    "\n",
    "X = vectorizer.fit_transform(Dataset.Text)\n",
    "\n",
    "(X_train, X_test, Y_train, Y_test) = train_test_split(X, Y,random_state=42,test_size=0.25)\n",
    "\n",
    "clf = naive_bayes.MultinomialNB(alpha=1,fit_prior= True)\n",
    "clf.fit(X_train,Y_train)"
   ]
  },
  {
   "cell_type": "code",
   "execution_count": 100,
   "metadata": {
    "scrolled": true
   },
   "outputs": [
    {
     "name": "stdout",
     "output_type": "stream",
     "text": [
      "[['Thank you so much to everyone who has supported our nonprofit mission on Patreon! You make this work possible. Want to learn more about how you can get involved? Check out our Patreon page: http://bit.ly/2hpoz8B']\n",
      " ['Hilary remind me of\\nHi larry\\nAnd I saw lepitn\\nCopied lepin\\nWhich copied Lego']\n",
      " ['Representative stability ban goal fear huge tomato leather cast.']\n",
      " ...\n",
      " ['ken ho Time isn\\'t a vector. It is without direction. :) We don\\'t say \"See you in 10 minutes southward\"']\n",
      " [\"Yes and no. -x is inverse (graphically we see these two exist between a zero) \\n\\nWhereas + and - (in physics) are mirrored. Because In physics you won't be able to define a 0 (imo).\"]\n",
      " [\"Shreyas JV My dudeMIT or Wien University. Most Nobel winners have come from these universities. If you're looking at the top ones :)\"]]\n"
     ]
    },
    {
     "name": "stderr",
     "output_type": "stream",
     "text": [
      "C:\\Users\\tilak\\Anaconda3\\lib\\site-packages\\sklearn\\feature_extraction\\text.py:1059: FutureWarning: Conversion of the second argument of issubdtype from `float` to `np.floating` is deprecated. In future, it will be treated as `np.float64 == np.dtype(float).type`.\n",
      "  if hasattr(X, 'dtype') and np.issubdtype(X.dtype, np.float):\n"
     ]
    },
    {
     "data": {
      "text/html": [
       "<div>\n",
       "<style>\n",
       "    .dataframe thead tr:only-child th {\n",
       "        text-align: right;\n",
       "    }\n",
       "\n",
       "    .dataframe thead th {\n",
       "        text-align: left;\n",
       "    }\n",
       "\n",
       "    .dataframe tbody tr th {\n",
       "        vertical-align: top;\n",
       "    }\n",
       "</style>\n",
       "<table border=\"1\" class=\"dataframe\">\n",
       "  <thead>\n",
       "    <tr style=\"text-align: right;\">\n",
       "      <th></th>\n",
       "      <th>Comment</th>\n",
       "      <th>Sentiment</th>\n",
       "    </tr>\n",
       "  </thead>\n",
       "  <tbody>\n",
       "    <tr>\n",
       "      <th>0</th>\n",
       "      <td>Thank you so much to everyone who has supporte...</td>\n",
       "      <td>1</td>\n",
       "    </tr>\n",
       "    <tr>\n",
       "      <th>1</th>\n",
       "      <td>Hilary remind me of\\nHi larry\\nAnd I saw lepit...</td>\n",
       "      <td>0</td>\n",
       "    </tr>\n",
       "    <tr>\n",
       "      <th>2</th>\n",
       "      <td>Representative stability ban goal fear huge to...</td>\n",
       "      <td>0</td>\n",
       "    </tr>\n",
       "    <tr>\n",
       "      <th>3</th>\n",
       "      <td>Make a video about what happened to the lost c...</td>\n",
       "      <td>0</td>\n",
       "    </tr>\n",
       "    <tr>\n",
       "      <th>4</th>\n",
       "      <td>Jesus christ that sandwich</td>\n",
       "      <td>0</td>\n",
       "    </tr>\n",
       "  </tbody>\n",
       "</table>\n",
       "</div>"
      ],
      "text/plain": [
       "                                             Comment  Sentiment\n",
       "0  Thank you so much to everyone who has supporte...          1\n",
       "1  Hilary remind me of\\nHi larry\\nAnd I saw lepit...          0\n",
       "2  Representative stability ban goal fear huge to...          0\n",
       "3  Make a video about what happened to the lost c...          0\n",
       "4                         Jesus christ that sandwich          0"
      ]
     },
     "execution_count": 100,
     "metadata": {},
     "output_type": "execute_result"
    }
   ],
   "source": [
    "Test =df_test[['Comment']].values\n",
    "print(Test)\n",
    "vector = vectorizer.transform(Test.ravel())\n",
    "Predicted_result = clf.predict(vector)\n",
    "df_test[\"Sentiment\"] = pd.DataFrame({'Sentiment':Predicted_result})\n",
    "df_test.head()\n",
    "\n",
    "\n",
    "#df_test[\"Sentiment\"]=clf.predict(Test"
   ]
  },
  {
   "cell_type": "code",
   "execution_count": null,
   "metadata": {},
   "outputs": [],
   "source": []
  },
  {
   "cell_type": "code",
   "execution_count": 77,
   "metadata": {},
   "outputs": [
    {
     "name": "stdout",
     "output_type": "stream",
     "text": [
      "0.8414106939704209\n"
     ]
    }
   ],
   "source": [
    "prediction = clf.predict(X_test)\n",
    "print(accuracy_score(Y_test,prediction))"
   ]
  }
 ],
 "metadata": {
  "kernelspec": {
   "display_name": "Python 3",
   "language": "python",
   "name": "python3"
  },
  "language_info": {
   "codemirror_mode": {
    "name": "ipython",
    "version": 3
   },
   "file_extension": ".py",
   "mimetype": "text/x-python",
   "name": "python",
   "nbconvert_exporter": "python",
   "pygments_lexer": "ipython3",
   "version": "3.6.1"
  }
 },
 "nbformat": 4,
 "nbformat_minor": 2
}
